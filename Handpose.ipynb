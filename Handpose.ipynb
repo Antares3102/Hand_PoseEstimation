{
 "cells": [
  {
   "cell_type": "markdown",
   "metadata": {},
   "source": [
    "# Install and import dependencies"
   ]
  },
  {
   "cell_type": "code",
   "execution_count": 1,
   "metadata": {},
   "outputs": [
    {
     "name": "stdout",
     "output_type": "stream",
     "text": [
      "Requirement already satisfied: mediaPipe in c:\\users\\overl\\anaconda3\\envs\\cs231\\lib\\site-packages (0.8.11)\n",
      "Requirement already satisfied: opencv-python in c:\\users\\overl\\anaconda3\\envs\\cs231\\lib\\site-packages (4.6.0)\n",
      "Requirement already satisfied: absl-py in c:\\users\\overl\\anaconda3\\envs\\cs231\\lib\\site-packages (from mediaPipe) (1.3.0)\n",
      "Requirement already satisfied: numpy in c:\\users\\overl\\anaconda3\\envs\\cs231\\lib\\site-packages (from mediaPipe) (1.23.3)\n",
      "Requirement already satisfied: attrs>=19.1.0 in c:\\users\\overl\\anaconda3\\envs\\cs231\\lib\\site-packages (from mediaPipe) (21.4.0)\n",
      "Requirement already satisfied: opencv-contrib-python in c:\\users\\overl\\anaconda3\\envs\\cs231\\lib\\site-packages (from mediaPipe) (4.6.0.66)\n",
      "Requirement already satisfied: matplotlib in c:\\users\\overl\\anaconda3\\envs\\cs231\\lib\\site-packages (from mediaPipe) (3.6.1)\n",
      "Requirement already satisfied: protobuf<4,>=3.11 in c:\\users\\overl\\anaconda3\\envs\\cs231\\lib\\site-packages (from mediaPipe) (3.20.3)\n",
      "Requirement already satisfied: pyparsing>=2.2.1 in c:\\users\\overl\\anaconda3\\envs\\cs231\\lib\\site-packages (from matplotlib->mediaPipe) (3.0.9)\n",
      "Requirement already satisfied: contourpy>=1.0.1 in c:\\users\\overl\\anaconda3\\envs\\cs231\\lib\\site-packages (from matplotlib->mediaPipe) (1.0.5)\n",
      "Requirement already satisfied: packaging>=20.0 in c:\\users\\overl\\anaconda3\\envs\\cs231\\lib\\site-packages (from matplotlib->mediaPipe) (21.3)\n",
      "Requirement already satisfied: kiwisolver>=1.0.1 in c:\\users\\overl\\anaconda3\\envs\\cs231\\lib\\site-packages (from matplotlib->mediaPipe) (1.4.4)\n",
      "Requirement already satisfied: fonttools>=4.22.0 in c:\\users\\overl\\anaconda3\\envs\\cs231\\lib\\site-packages (from matplotlib->mediaPipe) (4.37.4)\n",
      "Requirement already satisfied: pillow>=6.2.0 in c:\\users\\overl\\anaconda3\\envs\\cs231\\lib\\site-packages (from matplotlib->mediaPipe) (9.0.1)\n",
      "Requirement already satisfied: cycler>=0.10 in c:\\users\\overl\\anaconda3\\envs\\cs231\\lib\\site-packages (from matplotlib->mediaPipe) (0.11.0)\n",
      "Requirement already satisfied: python-dateutil>=2.7 in c:\\users\\overl\\anaconda3\\envs\\cs231\\lib\\site-packages (from matplotlib->mediaPipe) (2.8.2)\n",
      "Requirement already satisfied: six>=1.5 in c:\\users\\overl\\anaconda3\\envs\\cs231\\lib\\site-packages (from python-dateutil>=2.7->matplotlib->mediaPipe) (1.16.0)\n"
     ]
    }
   ],
   "source": [
    "!pip install mediaPipe opencv-python"
   ]
  },
  {
   "cell_type": "code",
   "execution_count": 2,
   "metadata": {},
   "outputs": [],
   "source": [
    "import numpy as np\n",
    "import cv2\n",
    "import uuid\n",
    "import mediapipe as mp\n",
    "import os"
   ]
  },
  {
   "cell_type": "markdown",
   "metadata": {},
   "source": [
    "# Draw hands"
   ]
  },
  {
   "cell_type": "code",
   "execution_count": null,
   "metadata": {},
   "outputs": [],
   "source": []
  },
  {
   "cell_type": "markdown",
   "metadata": {},
   "source": [
    "# Output Image"
   ]
  },
  {
   "cell_type": "code",
   "execution_count": null,
   "metadata": {},
   "outputs": [],
   "source": []
  },
  {
   "cell_type": "code",
   "execution_count": null,
   "metadata": {},
   "outputs": [],
   "source": []
  }
 ],
 "metadata": {
  "kernelspec": {
   "display_name": "Python 3.8.13 ('cs231')",
   "language": "python",
   "name": "python3"
  },
  "language_info": {
   "codemirror_mode": {
    "name": "ipython",
    "version": 3
   },
   "file_extension": ".py",
   "mimetype": "text/x-python",
   "name": "python",
   "nbconvert_exporter": "python",
   "pygments_lexer": "ipython3",
   "version": "3.8.13"
  },
  "orig_nbformat": 4,
  "vscode": {
   "interpreter": {
    "hash": "bbe3062dcc6113e0c0174c5018bdbed1cfd597cbd139394b0a8f640a4ce722d9"
   }
  }
 },
 "nbformat": 4,
 "nbformat_minor": 2
}
